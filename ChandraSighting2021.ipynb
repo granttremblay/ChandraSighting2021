{
 "cells": [
  {
   "cell_type": "markdown",
   "id": "f06a2953",
   "metadata": {},
   "source": [
    "## Is this *Chandra*?\n",
    "\n",
    "An friendly observer in the community sent us this gif of their lovely M57 (Ring Nebula) images, taken \"early on June 2\" from Tacoma, WA. When the Observer used *stellarium* to ID the satellite, the app said it was probably *Chandra*. Is it? \n",
    "\n",
    "![Observer's Image](images/is_this_chandra.gif \"The observer's Gif\")\n",
    "\n",
    "From the Observer: \n",
    "\n",
    "* The GIF shows images from **2:02 am local time to 2:35 am local time on June 2 from Tacoma, WA, USA (Zip 98465)**.\n",
    "* Exposure time is exactly **one minute per frame**\n",
    "* Field of view is roughly **29' by 16.5'**\n",
    "\n",
    "\n",
    "\n",
    "### A quick sniff test\n",
    "\n",
    "Before we spend time on this, let's quickly ensure that this is remotely possible, using the excellent (and quick!) https://www.arcsecond.io/ (i.e., iObserve on the Mac)\n",
    "\n",
    "![iObserve Test](images/iObserve.png \"iObserve Sniff Test\")\n",
    "\n",
    "\n"
   ]
  },
  {
   "cell_type": "code",
   "execution_count": null,
   "id": "660bee07",
   "metadata": {},
   "outputs": [],
   "source": []
  }
 ],
 "metadata": {
  "kernelspec": {
   "display_name": "Python 3",
   "language": "python",
   "name": "python3"
  },
  "language_info": {
   "codemirror_mode": {
    "name": "ipython",
    "version": 3
   },
   "file_extension": ".py",
   "mimetype": "text/x-python",
   "name": "python",
   "nbconvert_exporter": "python",
   "pygments_lexer": "ipython3",
   "version": "3.8.10"
  }
 },
 "nbformat": 4,
 "nbformat_minor": 5
}
